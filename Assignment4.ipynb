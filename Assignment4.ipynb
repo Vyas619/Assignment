{
 "cells": [
  {
   "cell_type": "code",
   "execution_count": 1,
   "id": "5e31fe85",
   "metadata": {},
   "outputs": [
    {
     "data": {
      "text/plain": [
       "'Q1. Explain Class and Object with respect to Object-Oriented Programming. Give a suitable example.'"
      ]
     },
     "execution_count": 1,
     "metadata": {},
     "output_type": "execute_result"
    }
   ],
   "source": [
    "'''Q1. Explain Class and Object with respect to Object-Oriented Programming. Give a suitable example.'''"
   ]
  },
  {
   "cell_type": "code",
   "execution_count": 2,
   "id": "c463893e",
   "metadata": {
    "scrolled": true
   },
   "outputs": [
    {
     "data": {
      "text/plain": [
       "'Ans. In object-oriented programming, a class is a blueprint or template for creating objects that encapsulate data and behavior. It defines the attributes (properties) and methods (functions) that an object will have.'"
      ]
     },
     "execution_count": 2,
     "metadata": {},
     "output_type": "execute_result"
    }
   ],
   "source": [
    "'''Ans. In object-oriented programming, a class is a blueprint or template for creating objects that encapsulate data and behavior. It defines the attributes (properties) and methods (functions) that an object will have.'''"
   ]
  },
  {
   "cell_type": "code",
   "execution_count": 6,
   "id": "566f64f1",
   "metadata": {},
   "outputs": [
    {
     "data": {
      "text/plain": [
       "'Q2. Name the four pillars of OOPs.'"
      ]
     },
     "execution_count": 6,
     "metadata": {},
     "output_type": "execute_result"
    }
   ],
   "source": [
    "'''Q2. Name the four pillars of OOPs.'''"
   ]
  },
  {
   "cell_type": "code",
   "execution_count": 8,
   "id": "e3ab736c",
   "metadata": {},
   "outputs": [],
   "source": [
    "#Ans. The four pillars of OOPs are:\n",
    "\n",
    "#Encapsulation: It is the technique of hiding the implementation details of an object from the outside world and providing a public interface to access it.\n",
    "\n",
    "#Abstraction: It is the technique of hiding complex implementation details and showing only the necessary features of an object to the outside world.\n",
    "\n",
    "#Inheritance: It is the mechanism of creating a new class by inheriting properties and behaviors of an existing class. It helps to reuse the code and establish a relationship between classes.\n",
    "\n",
    "#Polymorphism: It is the ability of an object to take on many forms or have many behaviors. It is achieved through method overloading and method overriding."
   ]
  },
  {
   "cell_type": "code",
   "execution_count": 9,
   "id": "7a03e0cd",
   "metadata": {},
   "outputs": [
    {
     "data": {
      "text/plain": [
       "'Q3. Explain why the __init__() function is used. Give a suitable example.'"
      ]
     },
     "execution_count": 9,
     "metadata": {},
     "output_type": "execute_result"
    }
   ],
   "source": [
    "'''Q3. Explain why the __init__() function is used. Give a suitable example.'''"
   ]
  },
  {
   "cell_type": "code",
   "execution_count": 10,
   "id": "78063356",
   "metadata": {},
   "outputs": [],
   "source": [
    "#In Python, the __init__() method is a special method used to initialize the instance variables of a class. It is called automatically when an object of a class is created.\n",
    "\n",
    "#The primary purpose of the __init__() method is to set the initial values of an object's properties or instance variables. It takes self as its first parameter, which refers to the newly created object instance. The self parameter is used to access the instance variables of the object.\n"
   ]
  },
  {
   "cell_type": "code",
   "execution_count": 21,
   "id": "58fc6d82",
   "metadata": {},
   "outputs": [
    {
     "name": "stdout",
     "output_type": "stream",
     "text": [
      "Name: Vyas\n",
      "Age: 25\n"
     ]
    }
   ],
   "source": [
    "class Person:\n",
    "    def __init__(self, name, age):\n",
    "        self.name = name\n",
    "        self.age = age\n",
    "\n",
    "    def display(self):\n",
    "        print(\"Name:\", self.name)\n",
    "        print(\"Age:\", self.age)\n",
    "\n",
    "p = Person(\"Vyas\", 25)\n",
    "p.display()"
   ]
  },
  {
   "cell_type": "code",
   "execution_count": 22,
   "id": "aa6912c6",
   "metadata": {},
   "outputs": [
    {
     "name": "stdout",
     "output_type": "stream",
     "text": [
      "Object `OOPs` not found.\n"
     ]
    }
   ],
   "source": [
    "Q4. Why self is used in OOPs?"
   ]
  },
  {
   "cell_type": "code",
   "execution_count": null,
   "id": "17456af2",
   "metadata": {},
   "outputs": [],
   "source": [
    "''''''Q4. Why self is used in OOPs'''"
   ]
  },
  {
   "cell_type": "code",
   "execution_count": 23,
   "id": "26d452ea",
   "metadata": {},
   "outputs": [],
   "source": [
    "#In Python, the self parameter refers to the instance of the class that is currently being used. It is used to access the attributes and methods of the instance. In other words, self acts as a reference to the current object. When we create an object of a class, we need to pass the object as the first parameter to access the attributes and methods of the object. This is why self is used in OOPs."
   ]
  },
  {
   "cell_type": "code",
   "execution_count": 24,
   "id": "c488fa5a",
   "metadata": {},
   "outputs": [
    {
     "data": {
      "text/plain": [
       "'Inheritance is the mechanism by which a new class can be derived from an existing class. The new class will have all the properties and methods of the existing class, as well as any additional properties and methods that are defined in the new class.'"
      ]
     },
     "execution_count": 24,
     "metadata": {},
     "output_type": "execute_result"
    }
   ],
   "source": [
    "'''Inheritance is the mechanism by which a new class can be derived from an existing class. The new class will have all the properties and methods of the existing class, as well as any additional properties and methods that are defined in the new class.'''"
   ]
  },
  {
   "cell_type": "code",
   "execution_count": 26,
   "id": "f7fc1222",
   "metadata": {},
   "outputs": [
    {
     "name": "stdout",
     "output_type": "stream",
     "text": [
      "Hello, my name is Vyas and I am 25 years old.\n",
      "My roll number is 1234.\n"
     ]
    }
   ],
   "source": [
    "#Single inheritancee\n",
    "#Example:\n",
    "class Person:\n",
    "    def __init__(self, name, age):\n",
    "        self.name = name\n",
    "        self.age = age\n",
    "    \n",
    "    def greet(self):\n",
    "        print(f\"Hello, my name is {self.name} and I am {self.age} years old.\")\n",
    "\n",
    "class Student(Person):\n",
    "    def __init__(self, name, age, roll_number):\n",
    "        super().__init__(name, age)\n",
    "        self.roll_number = roll_number\n",
    "    \n",
    "    def display_roll_number(self):\n",
    "        print(f\"My roll number is {self.roll_number}.\")\n",
    "\n",
    "s = Student(\"Vyas\", 25, 1234)\n",
    "s.greet()\n",
    "s.display_roll_number()"
   ]
  },
  {
   "cell_type": "code",
   "execution_count": 28,
   "id": "6f31703b",
   "metadata": {},
   "outputs": [
    {
     "name": "stdout",
     "output_type": "stream",
     "text": [
      "This is method A.\n",
      "This is method B.\n",
      "This is method C.\n"
     ]
    }
   ],
   "source": [
    "#Multiple inheritance\n",
    "class A:\n",
    "    def method_a(self):\n",
    "        print(\"This is method A.\")\n",
    "\n",
    "class B:\n",
    "    def method_b(self):\n",
    "        print(\"This is method B.\")\n",
    "\n",
    "class C(A, B):\n",
    "    def method_c(self):\n",
    "        print(\"This is method C.\")\n",
    "\n",
    "c = C()\n",
    "c.method_a()\n",
    "c.method_b()\n",
    "c.method_c()"
   ]
  },
  {
   "cell_type": "code",
   "execution_count": 30,
   "id": "7cf19ca8",
   "metadata": {},
   "outputs": [
    {
     "name": "stdout",
     "output_type": "stream",
     "text": [
      "This is method A.\n",
      "This is method B.\n",
      "This is method C.\n"
     ]
    }
   ],
   "source": [
    "#Multi-level inheritance\n",
    "class A:\n",
    "    def method_a(self):\n",
    "        print(\"This is method A.\")\n",
    "\n",
    "class B(A):\n",
    "    def method_b(self):\n",
    "        print(\"This is method B.\")\n",
    "\n",
    "class C(B):\n",
    "    def method_c(self):\n",
    "        print(\"This is method C.\")\n",
    "\n",
    "c = C()\n",
    "c.method_a()\n",
    "c.method_b()\n",
    "c.method_c()"
   ]
  },
  {
   "cell_type": "code",
   "execution_count": 31,
   "id": "f090e71a",
   "metadata": {},
   "outputs": [
    {
     "name": "stdout",
     "output_type": "stream",
     "text": [
      "Woof!\n",
      "Meow!\n"
     ]
    }
   ],
   "source": [
    "#Hierarchical inheritance\n",
    "class Animal:\n",
    "    def make_sound(self):\n",
    "        pass\n",
    "\n",
    "class Dog(Animal):\n",
    "    def make_sound(self):\n",
    "        print(\"Woof!\")\n",
    "\n",
    "class Cat(Animal):\n",
    "    def make_sound(self):\n",
    "        print(\"Meow!\")\n",
    "\n",
    "d = Dog()\n",
    "d.make_sound()\n",
    "\n",
    "c = Cat()\n",
    "c.make_sound()"
   ]
  },
  {
   "cell_type": "code",
   "execution_count": null,
   "id": "7d845966",
   "metadata": {},
   "outputs": [],
   "source": []
  }
 ],
 "metadata": {
  "kernelspec": {
   "display_name": "Python 3 (ipykernel)",
   "language": "python",
   "name": "python3"
  },
  "language_info": {
   "codemirror_mode": {
    "name": "ipython",
    "version": 3
   },
   "file_extension": ".py",
   "mimetype": "text/x-python",
   "name": "python",
   "nbconvert_exporter": "python",
   "pygments_lexer": "ipython3",
   "version": "3.9.13"
  }
 },
 "nbformat": 4,
 "nbformat_minor": 5
}
