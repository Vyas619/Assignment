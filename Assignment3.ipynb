{
 "cells": [
  {
   "cell_type": "code",
   "execution_count": 1,
   "id": "0aaa7319",
   "metadata": {},
   "outputs": [
    {
     "data": {
      "text/plain": [
       "'Q1. Create a python program to sort the given list of tuples based on integer value using a\\nlambda function.'"
      ]
     },
     "execution_count": 1,
     "metadata": {},
     "output_type": "execute_result"
    }
   ],
   "source": [
    "'''Q1. Create a python program to sort the given list of tuples based on integer value using a\n",
    "lambda function.'''"
   ]
  },
  {
   "cell_type": "code",
   "execution_count": 4,
   "id": "b9ad5dbd",
   "metadata": {},
   "outputs": [
    {
     "name": "stdout",
     "output_type": "stream",
     "text": [
      "[('Sachin Tendulkar', 34357), ('Ricky Ponting', 27483), ('Jack Kallis', 25534), ('Virat Kohli', 24936)]\n"
     ]
    }
   ],
   "source": [
    "lst = [('Sachin Tendulkar', 34357), ('Ricky Ponting', 27483), ('Jack Kallis', 25534), ('Virat Kohli', 24936)]\n",
    "sorted_lst = sorted(lst, key=lambda x: x[1], reverse=True)\n",
    "print(sorted_lst)"
   ]
  },
  {
   "cell_type": "code",
   "execution_count": 5,
   "id": "524207c4",
   "metadata": {},
   "outputs": [
    {
     "data": {
      "text/plain": [
       "'Q2. Write a Python Program to find the squares of all the numbers in the given list of integers using\\nlambda and map functions.\\n[1, 2, 3, 4, 5, 6, 7, 8, 9, 10]'"
      ]
     },
     "execution_count": 5,
     "metadata": {},
     "output_type": "execute_result"
    }
   ],
   "source": [
    "'''Q2. Write a Python Program to find the squares of all the numbers in the given list of integers using\n",
    "lambda and map functions.\n",
    "[1, 2, 3, 4, 5, 6, 7, 8, 9, 10]'''"
   ]
  },
  {
   "cell_type": "code",
   "execution_count": 7,
   "id": "af17ecea",
   "metadata": {},
   "outputs": [
    {
     "name": "stdout",
     "output_type": "stream",
     "text": [
      "[1, 4, 9, 16, 25, 36, 49, 64, 81, 100]\n"
     ]
    }
   ],
   "source": [
    "nums = [1, 2, 3, 4, 5, 6, 7, 8, 9, 10]\n",
    "\n",
    "squares = list(map(lambda x: x**2, nums))\n",
    "\n",
    "print(squares)"
   ]
  },
  {
   "cell_type": "code",
   "execution_count": 8,
   "id": "dca18d2e",
   "metadata": {},
   "outputs": [
    {
     "data": {
      "text/plain": [
       "\"Q3. Write a python program to convert the given list of integers into a tuple of strings. Use map and\\nlambda functions\\nGiven String: [1, 2, 3, 4, 5, 6, 7, 8, 9, 10]\\nExpected output: ('1', '2', '3', '4', '5', '6', '7', '8', '9', '10')\""
      ]
     },
     "execution_count": 8,
     "metadata": {},
     "output_type": "execute_result"
    }
   ],
   "source": [
    "'''Q3. Write a python program to convert the given list of integers into a tuple of strings. Use map and\n",
    "lambda functions\n",
    "Given String: [1, 2, 3, 4, 5, 6, 7, 8, 9, 10]\n",
    "Expected output: ('1', '2', '3', '4', '5', '6', '7', '8', '9', '10')'''"
   ]
  },
  {
   "cell_type": "code",
   "execution_count": 9,
   "id": "18490a54",
   "metadata": {},
   "outputs": [
    {
     "name": "stdout",
     "output_type": "stream",
     "text": [
      "('1', '2', '3', '4', '5', '6', '7', '8', '9', '10')\n"
     ]
    }
   ],
   "source": [
    "lst = [1, 2, 3, 4, 5, 6, 7, 8, 9, 10]\n",
    "\n",
    "tuple_str = tuple(map(lambda x: str(x), lst))\n",
    "\n",
    "print(tuple_str)\n"
   ]
  },
  {
   "cell_type": "code",
   "execution_count": 10,
   "id": "5c85b81f",
   "metadata": {},
   "outputs": [
    {
     "data": {
      "text/plain": [
       "'Q4. Write a python program using reduce function to compute the product of a list containing numbers\\nfrom 1 to 25.'"
      ]
     },
     "execution_count": 10,
     "metadata": {},
     "output_type": "execute_result"
    }
   ],
   "source": [
    "'''Q4. Write a python program using reduce function to compute the product of a list containing numbers\n",
    "from 1 to 25.'''"
   ]
  },
  {
   "cell_type": "code",
   "execution_count": 12,
   "id": "75021327",
   "metadata": {},
   "outputs": [
    {
     "name": "stdout",
     "output_type": "stream",
     "text": [
      "15511210043330985984000000\n"
     ]
    }
   ],
   "source": [
    "from functools import reduce\n",
    "\n",
    "multiply = lambda x, y: x * y\n",
    "\n",
    "numbers = list(range(1, 26))\n",
    "\n",
    "product = reduce(multiply, numbers)\n",
    "\n",
    "print(product)\n"
   ]
  },
  {
   "cell_type": "code",
   "execution_count": 13,
   "id": "21024728",
   "metadata": {},
   "outputs": [
    {
     "data": {
      "text/plain": [
       "'Q5. Write a python program to filter the numbers in a given list that are divisible by 2 and 3 using the\\nfilter function.\\n[2, 3, 6, 9, 27, 60, 90, 120, 55, 46]'"
      ]
     },
     "execution_count": 13,
     "metadata": {},
     "output_type": "execute_result"
    }
   ],
   "source": [
    "'''Q5. Write a python program to filter the numbers in a given list that are divisible by 2 and 3 using the\n",
    "filter function.\n",
    "[2, 3, 6, 9, 27, 60, 90, 120, 55, 46]'''"
   ]
  },
  {
   "cell_type": "code",
   "execution_count": 14,
   "id": "3fb75d39",
   "metadata": {},
   "outputs": [
    {
     "name": "stdout",
     "output_type": "stream",
     "text": [
      "[6, 60, 90, 120]\n"
     ]
    }
   ],
   "source": [
    "lst = [2, 3, 6, 9, 27, 60, 90, 120, 55, 46]\n",
    "\n",
    "result = list(filter(lambda x: x % 2 == 0 and x % 3 == 0, lst))\n",
    "\n",
    "print(result)"
   ]
  },
  {
   "cell_type": "code",
   "execution_count": 16,
   "id": "8da12f55",
   "metadata": {},
   "outputs": [
    {
     "data": {
      "text/plain": [
       "\"Q6. Write a python program to find palindromes in the given list of strings using lambda and filter\\nfunction.\\n['python', 'php', 'aba', 'radar', 'level']\""
      ]
     },
     "execution_count": 16,
     "metadata": {},
     "output_type": "execute_result"
    }
   ],
   "source": [
    "'''Q6. Write a python program to find palindromes in the given list of strings using lambda and filter\n",
    "function.\n",
    "['python', 'php', 'aba', 'radar', 'level']'''"
   ]
  },
  {
   "cell_type": "code",
   "execution_count": 17,
   "id": "6a6810ee",
   "metadata": {},
   "outputs": [
    {
     "name": "stdout",
     "output_type": "stream",
     "text": [
      "['php', 'aba', 'radar', 'level']\n"
     ]
    }
   ],
   "source": [
    "lst = ['python', 'php', 'aba', 'radar', 'level']\n",
    "\n",
    "is_palindrome = lambda s: s == s[::-1]\n",
    "\n",
    "palindromes = list(filter(is_palindrome, lst))\n",
    "\n",
    "print(palindromes)"
   ]
  },
  {
   "cell_type": "code",
   "execution_count": null,
   "id": "e881760b",
   "metadata": {},
   "outputs": [],
   "source": []
  }
 ],
 "metadata": {
  "kernelspec": {
   "display_name": "Python 3 (ipykernel)",
   "language": "python",
   "name": "python3"
  },
  "language_info": {
   "codemirror_mode": {
    "name": "ipython",
    "version": 3
   },
   "file_extension": ".py",
   "mimetype": "text/x-python",
   "name": "python",
   "nbconvert_exporter": "python",
   "pygments_lexer": "ipython3",
   "version": "3.9.13"
  }
 },
 "nbformat": 4,
 "nbformat_minor": 5
}
