{
 "cells": [
  {
   "cell_type": "code",
   "execution_count": 1,
   "id": "80cda366-687d-48c6-919f-b77bf1741b99",
   "metadata": {},
   "outputs": [],
   "source": [
    "## Q1. Explain with an example each when to use a for loop and a while loop.\n",
    "## Ans. Loop is used to check conditions and repete the statement as long as conditions are met."
   ]
  },
  {
   "cell_type": "code",
   "execution_count": 3,
   "id": "88d7e58a-fff8-48ab-8c7e-65a14dae6772",
   "metadata": {},
   "outputs": [
    {
     "name": "stdout",
     "output_type": "stream",
     "text": [
      "Rohit\n",
      "Rahul\n",
      "Virat\n",
      "SKY\n",
      "Hardik\n",
      "Ravindra\n",
      "Shreyas\n",
      "Shami\n",
      "Siraj\n"
     ]
    }
   ],
   "source": [
    "## For Loop is used to where you already know the number of repetition.\n",
    "## Example:\n",
    "\n",
    "Team=['Rohit','Rahul','Virat','SKY','Hardik','Ravindra','Shreyas','Shami','Siraj']\n",
    "for player in Team:\n",
    "    print(player)"
   ]
  },
  {
   "cell_type": "code",
   "execution_count": 7,
   "id": "b980c1fa-2d4e-456b-bc5c-6e233767fc59",
   "metadata": {},
   "outputs": [
    {
     "name": "stdout",
     "output_type": "stream",
     "text": [
      "Rohit\n",
      "Rahul\n",
      "Virat\n",
      "SKY\n",
      "Hardik\n",
      "Ravindra\n",
      "Shreyas\n",
      "Shami\n",
      "Siraj\n"
     ]
    }
   ],
   "source": [
    "## While Loop is used when you want to repet the statement any number of time just by checking if given condition falling as True statement.\n",
    "## Example:\n",
    "Team = ['Rohit', 'Rahul', 'Virat', 'SKY', 'Hardik', 'Ravindra', 'Shreyas', 'Shami', 'Siraj']\n",
    "i = 0\n",
    "while i < len(Team):\n",
    "    print(Team[i])\n",
    "    i = i+1\n"
   ]
  },
  {
   "cell_type": "code",
   "execution_count": 25,
   "id": "546d536c-d8a7-4d05-97fa-31ad21cdb0d1",
   "metadata": {},
   "outputs": [
    {
     "name": "stdout",
     "output_type": "stream",
     "text": [
      "Product of first 10 natural numbers: 55\n"
     ]
    }
   ],
   "source": [
    "## Write a python program to print the sum and product of the first 10 natural numbers using for and while loop.\n",
    "## For Loop for Sum:\n",
    "sum=0\n",
    "for i in range(1, 11):\n",
    "    sum=sum+i\n",
    "print('Product of first 10 natural numbers:',sum)"
   ]
  },
  {
   "cell_type": "code",
   "execution_count": 24,
   "id": "44a0261b-b589-4260-bb9f-638a05dcdd57",
   "metadata": {},
   "outputs": [
    {
     "name": "stdout",
     "output_type": "stream",
     "text": [
      "Product of first 10 natural numbers: 3628800\n"
     ]
    }
   ],
   "source": [
    "## For Loop for Product:\n",
    "product = 1\n",
    "for i in range(1, 11):\n",
    "    product=product*i\n",
    "print('Product of first 10 natural numbers:', product)"
   ]
  },
  {
   "cell_type": "code",
   "execution_count": 26,
   "id": "08e350c7-99fa-4b47-a278-ffaa8200f9ae",
   "metadata": {},
   "outputs": [
    {
     "name": "stdout",
     "output_type": "stream",
     "text": [
      "Sum of first 10 natural numbers: 55\n"
     ]
    }
   ],
   "source": [
    "## While Loop for Sum:\n",
    "sum=0\n",
    "i=1\n",
    "while i<=10:\n",
    "    sum=sum+i\n",
    "    i=i+1\n",
    "print('Sum of first 10 natural numbers:',sum)"
   ]
  },
  {
   "cell_type": "code",
   "execution_count": 27,
   "id": "31fc05a9-e8b9-41ad-9091-799a65608f72",
   "metadata": {},
   "outputs": [
    {
     "name": "stdout",
     "output_type": "stream",
     "text": [
      "Product of first 10 natural numbers: 3628800\n"
     ]
    }
   ],
   "source": [
    "## While Loop for Product:\n",
    "product=1\n",
    "i=1\n",
    "while i<=10:\n",
    "    product=product*i\n",
    "    i=i+1\n",
    "print('Product of first 10 natural numbers:',product)"
   ]
  },
  {
   "cell_type": "code",
   "execution_count": 31,
   "id": "58c35ced-f864-4721-ba59-979fd920eb10",
   "metadata": {},
   "outputs": [
    {
     "name": "stdin",
     "output_type": "stream",
     "text": [
      "Enter the number of units you have consumed: 310\n"
     ]
    },
    {
     "name": "stdout",
     "output_type": "stream",
     "text": [
      "Your electricity bill amount is: Rs. 2250.0\n"
     ]
    }
   ],
   "source": [
    "## Q.3 Create a python program to compute the electricity bill for a household.\n",
    "## Ans.:\n",
    "units=int(input('Enter the number of units you have consumed:'))\n",
    "amount=0\n",
    "if units<=100:\n",
    "    amount=units*4.5\n",
    "elif units<=200:\n",
    "    amount=100*4.5+(units-100)*6\n",
    "elif units<=300:\n",
    "    amount=100*4.5+100*6+(units-200)*10\n",
    "else:\n",
    "    amount=100*4.5+100*6+100*10+(units-300)*20\n",
    "\n",
    "print('Your electricity bill amount is: Rs.',amount)"
   ]
  },
  {
   "cell_type": "code",
   "execution_count": 29,
   "id": "9cedd792-d56d-42e3-a24e-cd8f2a655078",
   "metadata": {},
   "outputs": [
    {
     "name": "stdout",
     "output_type": "stream",
     "text": [
      "[2, 4, 5, 6, 8, 10, 12, 14, 15, 16, 18, 20, 22, 24, 25, 26, 28, 30, 32, 34, 35, 36, 38, 40, 42, 44, 45, 46, 48, 50, 52, 54, 55, 56, 58, 60, 62, 64, 65, 66, 68, 70, 72, 74, 75, 76, 78, 80, 82, 84, 85, 86, 88, 90, 92, 94, 95, 96, 98, 100]\n"
     ]
    }
   ],
   "source": [
    "'''Q.4 Create a list of numbers from 1 to 100. Use for loop and while loop to calculate the cube of each\n",
    "number and if the cube of that number is divisible by 4 or 5 then append that number in a list and print that list.'''\n",
    "##Ans.\n",
    "## Using For Loop:\n",
    "l=[]\n",
    "for number in range(1, 101):\n",
    "    cube=number**3\n",
    "    if cube%4==0 or cube%5==0:\n",
    "        l.append(number)\n",
    "print(l)"
   ]
  },
  {
   "cell_type": "code",
   "execution_count": 30,
   "id": "06be2472-8dd6-4044-9029-53e9cb7b7b17",
   "metadata": {},
   "outputs": [
    {
     "name": "stdout",
     "output_type": "stream",
     "text": [
      "[2, 4, 5, 6, 8, 10, 12, 14, 15, 16, 18, 20, 22, 24, 25, 26, 28, 30, 32, 34, 35, 36, 38, 40, 42, 44, 45, 46, 48, 50, 52, 54, 55, 56, 58, 60, 62, 64, 65, 66, 68, 70, 72, 74, 75, 76, 78, 80, 82, 84, 85, 86, 88, 90, 92, 94, 95, 96, 98, 100]\n"
     ]
    }
   ],
   "source": [
    "## Using While Loop:\n",
    "l=[]\n",
    "number=1\n",
    "while number<=100:\n",
    "    cube=number**3\n",
    "    if cube%4==0 or cube%5==0:\n",
    "        l.append(number)\n",
    "    number=number+1\n",
    "print(l)"
   ]
  },
  {
   "cell_type": "code",
   "execution_count": 32,
   "id": "8e37af6e-e20d-4dfd-9c2c-46557cdaee90",
   "metadata": {},
   "outputs": [
    {
     "name": "stdout",
     "output_type": "stream",
     "text": [
      "The number of vowels in the string: 12\n"
     ]
    }
   ],
   "source": [
    "## Q.5 Write a program to filter count vowels in the below-given string.\n",
    "## string = \"I want to become a data scientist\"\n",
    "\n",
    "string='I want to become a data scientist'\n",
    "vowels=['a', 'e', 'i', 'o', 'u']\n",
    "vowel_count=0\n",
    "for char in string:\n",
    "    if char.lower() in vowels:\n",
    "        vowel_count=vowel_count+1\n",
    "print('The number of vowels in the string:',vowel_count)"
   ]
  },
  {
   "cell_type": "code",
   "execution_count": null,
   "id": "31334d54-ac25-42bb-957b-39493a7f17f1",
   "metadata": {},
   "outputs": [],
   "source": []
  }
 ],
 "metadata": {
  "kernelspec": {
   "display_name": "Python 3 (ipykernel)",
   "language": "python",
   "name": "python3"
  },
  "language_info": {
   "codemirror_mode": {
    "name": "ipython",
    "version": 3
   },
   "file_extension": ".py",
   "mimetype": "text/x-python",
   "name": "python",
   "nbconvert_exporter": "python",
   "pygments_lexer": "ipython3",
   "version": "3.9.13"
  }
 },
 "nbformat": 4,
 "nbformat_minor": 5
}
